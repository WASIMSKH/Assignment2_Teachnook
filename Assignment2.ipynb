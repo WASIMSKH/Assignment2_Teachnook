{
 "cells": [
  {
   "cell_type": "code",
   "execution_count": 1,
   "id": "bc17dbdc",
   "metadata": {},
   "outputs": [],
   "source": [
    "# Initializing List"
   ]
  },
  {
   "cell_type": "code",
   "execution_count": 2,
   "id": "69699fd7",
   "metadata": {},
   "outputs": [],
   "source": [
    "Num_List = [[1,2,3],[4,5,6],[7,8,9]]"
   ]
  },
  {
   "cell_type": "code",
   "execution_count": 3,
   "id": "1a85fab7",
   "metadata": {},
   "outputs": [],
   "source": [
    "# printing original list"
   ]
  },
  {
   "cell_type": "code",
   "execution_count": 4,
   "id": "0131e4ac",
   "metadata": {},
   "outputs": [
    {
     "name": "stdout",
     "output_type": "stream",
     "text": [
      "The original list is : [[1, 2, 3], [4, 5, 6], [7, 8, 9]]\n"
     ]
    }
   ],
   "source": [
    "print(\"The original list is : \" + str(Num_List))"
   ]
  },
  {
   "cell_type": "code",
   "execution_count": 5,
   "id": "d7a54023",
   "metadata": {},
   "outputs": [
    {
     "name": "stdout",
     "output_type": "stream",
     "text": [
      "The reverse order is:[[3, 2, 1], [6, 5, 4], [9, 8, 7]]\n"
     ]
    }
   ],
   "source": [
    "# Reverse the list\n",
    "for num in Num_List:\n",
    "    num.sort(reverse=True)\n",
    "print(\"The reverse order is:\" + str(Num_List))"
   ]
  },
  {
   "cell_type": "code",
   "execution_count": null,
   "id": "552a9631",
   "metadata": {},
   "outputs": [],
   "source": []
  }
 ],
 "metadata": {
  "kernelspec": {
   "display_name": "Python 3 (ipykernel)",
   "language": "python",
   "name": "python3"
  },
  "language_info": {
   "codemirror_mode": {
    "name": "ipython",
    "version": 3
   },
   "file_extension": ".py",
   "mimetype": "text/x-python",
   "name": "python",
   "nbconvert_exporter": "python",
   "pygments_lexer": "ipython3",
   "version": "3.9.12"
  }
 },
 "nbformat": 4,
 "nbformat_minor": 5
}
